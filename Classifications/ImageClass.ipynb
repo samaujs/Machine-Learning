{
 "cells": [
  {
   "cell_type": "code",
   "execution_count": 1,
   "metadata": {},
   "outputs": [],
   "source": [
    "import os\n",
    "import numpy as np\n",
    "import pandas as pd\n",
    "\n",
    "import tensorflow as tf\n",
    "from tensorflow import keras\n",
    "\n",
    "# Where to save the figures\n",
    "PROJECT_ROOT_DIR = \".\"\n",
    "CATEGORY_DIR = \"images\"\n",
    "SUB_DIR = \"fashionClass\"\n",
    "\n",
    "SAVE_IMAGE_PATH = os.path.join(PROJECT_ROOT_DIR, CATEGORY_DIR, SUB_DIR)\n",
    "os.makedirs(SAVE_IMAGE_PATH, exist_ok=True)\n",
    "\n",
    "def save_image(fig_name, tight_layout=True, fig_extension=\"png\", resolution=300):\n",
    "    filename = os.path.join(SAVE_IMAGE_PATH, fig_name + \".\" + fig_extension)\n",
    "    print(\"Saving file : \", filename)\n",
    "    if tight_layout:\n",
    "        plt.tight_layout()\n",
    "    plt.savefig(filename, format=fig_extension, dpi=resolution)"
   ]
  },
  {
   "cell_type": "code",
   "execution_count": 2,
   "metadata": {},
   "outputs": [
    {
     "data": {
      "text/plain": [
       "'1.14.0'"
      ]
     },
     "execution_count": 2,
     "metadata": {},
     "output_type": "execute_result"
    }
   ],
   "source": [
    "# Check Tensorflow version\n",
    "tf.__version__"
   ]
  },
  {
   "cell_type": "code",
   "execution_count": 3,
   "metadata": {},
   "outputs": [
    {
     "data": {
      "text/plain": [
       "'2.2.4-tf'"
      ]
     },
     "execution_count": 3,
     "metadata": {},
     "output_type": "execute_result"
    }
   ],
   "source": [
    "# Check version of Keras API implemented by tf.keras\n",
    "keras.__version__"
   ]
  },
  {
   "cell_type": "markdown",
   "metadata": {},
   "source": [
    "### Download Fashion_MNIST dataset from Keras and stored in ~/.keras/datasets"
   ]
  },
  {
   "cell_type": "code",
   "execution_count": 4,
   "metadata": {},
   "outputs": [],
   "source": [
    "fashion_mnist = keras.datasets.fashion_mnist\n",
    "(X_train_full, y_train_full), (X_test, y_test) = fashion_mnist.load_data()"
   ]
  },
  {
   "cell_type": "code",
   "execution_count": 5,
   "metadata": {},
   "outputs": [
    {
     "name": "stdout",
     "output_type": "stream",
     "text": [
      "(60000, 28, 28) with types : uint8\n"
     ]
    }
   ],
   "source": [
    "print(str(X_train_full.shape) + \" with types : \" + str(X_train_full.dtype))"
   ]
  },
  {
   "cell_type": "code",
   "execution_count": 6,
   "metadata": {},
   "outputs": [
    {
     "name": "stdout",
     "output_type": "stream",
     "text": [
      "(10000, 28, 28) with types : uint8\n"
     ]
    }
   ],
   "source": [
    "print(str(X_test.shape) + \" with types : \" + str(X_test.dtype))"
   ]
  },
  {
   "cell_type": "markdown",
   "metadata": {},
   "source": [
    "- Full training dataset is split into a training set (60000 images) and a test set (10000 images)\n",
    "- Training set is split into a new training set (55000 images) and a validation set (5000 images)\n",
    "- Scale the pixel intensities down to the 0–1 range for Gradient Descent having them divided by 255.0 (this also converts them to floats)"
   ]
  },
  {
   "cell_type": "code",
   "execution_count": 7,
   "metadata": {},
   "outputs": [],
   "source": [
    "X_val, X_train = X_train_full[:5000] / 255.0, X_train_full[5000:] / 255.0\n",
    "y_val, y_train = y_train_full[:5000], y_train_full[5000:]\n",
    "X_test = X_test / 255.0"
   ]
  },
  {
   "cell_type": "code",
   "execution_count": 8,
   "metadata": {},
   "outputs": [
    {
     "data": {
      "text/plain": [
       "((55000, 28, 28), (5000, 28, 28))"
      ]
     },
     "execution_count": 8,
     "metadata": {},
     "output_type": "execute_result"
    }
   ],
   "source": [
    "# The validation set contains 5,000 images, and the test set contains 10,000 images\n",
    "X_train.shape, X_val.shape"
   ]
  },
  {
   "cell_type": "code",
   "execution_count": 9,
   "metadata": {},
   "outputs": [
    {
     "data": {
      "image/png": "[encoded data removed]",
      "text/plain": [
       "<Figure size 432x288 with 1 Axes>"
      ]
     },
     "metadata": {
      "needs_background": "light"
     },
     "output_type": "display_data"
    }
   ],
   "source": [
    "# To plot pretty figures\n",
    "%matplotlib inline\n",
    "import matplotlib as mpl\n",
    "import matplotlib.pyplot as plt\n",
    "mpl.rc('axes', labelsize=14)\n",
    "mpl.rc('xtick', labelsize=12)\n",
    "mpl.rc('ytick', labelsize=12)\n",
    "\n",
    "plt.imshow(X_train[12], cmap=\"binary\")\n",
    "plt.axis('off')\n",
    "plt.show()"
   ]
  },
  {
   "cell_type": "code",
   "execution_count": 10,
   "metadata": {},
   "outputs": [
    {
     "data": {
      "text/plain": [
       "array([4, 0, 7, ..., 3, 0, 5], dtype=uint8)"
      ]
     },
     "execution_count": 10,
     "metadata": {},
     "output_type": "execute_result"
    }
   ],
   "source": [
    "# The labels are the class IDs (represented as uint8), from 0 to 9:\n",
    "y_train"
   ]
  },
  {
   "cell_type": "code",
   "execution_count": 11,
   "metadata": {},
   "outputs": [],
   "source": [
    "# The corresponding class names:\n",
    "class_names = [\"T-shirt/top\", \"Trouser\", \"Pullover\", \"Dress\", \"Coat\",\n",
    "               \"Sandal\", \"Shirt\", \"Sneaker\", \"Bag\", \"Ankle boot\"]"
   ]
  },
  {
   "cell_type": "code",
   "execution_count": 12,
   "metadata": {},
   "outputs": [
    {
     "data": {
      "text/plain": [
       "'Bag'"
      ]
     },
     "execution_count": 12,
     "metadata": {},
     "output_type": "execute_result"
    }
   ],
   "source": [
    "class_names[y_train[12]]"
   ]
  },
  {
   "cell_type": "code",
   "execution_count": 13,
   "metadata": {},
   "outputs": [
    {
     "name": "stdout",
     "output_type": "stream",
     "text": [
      "Saving file :  ./images/fashionClass/fashion_mnist_plot_30.png\n"
     ]
    },
    {
     "data": {
      "image/png": "[encoded data removed]",
      "text/plain": [
       "<Figure size 864x345.6 with 40 Axes>"
      ]
     },
     "metadata": {
      "needs_background": "light"
     },
     "output_type": "display_data"
    }
   ],
   "source": [
    "n_rows = 4\n",
    "n_cols = 10\n",
    "plt.figure(figsize=(n_cols * 1.2, n_rows * 1.2))\n",
    "for row in range(n_rows):\n",
    "    for col in range(n_cols):\n",
    "        index = n_cols * row + col\n",
    "        plt.subplot(n_rows, n_cols, index + 1)\n",
    "        plt.imshow(X_train[index], cmap=\"binary\", interpolation=\"nearest\")\n",
    "        plt.axis('off')\n",
    "        plt.title(class_names[y_train[index]], fontsize=12)\n",
    "plt.subplots_adjust(wspace=0.2, hspace=0.5)\n",
    "\n",
    "save_image('fashion_mnist_plot_30', tight_layout=False)\n",
    "plt.show()"
   ]
  },
  {
   "cell_type": "code",
   "execution_count": 14,
   "metadata": {},
   "outputs": [],
   "source": [
    "keras.backend.clear_session()\n",
    "np.random.seed(42)\n",
    "\n",
    "#tf.random.set_seed(42) for tensorflow >= 2.0"
   ]
  },
  {
   "cell_type": "markdown",
   "metadata": {},
   "source": [
    "# Create a classification MLP with two hidden layers:"
   ]
  },
  {
   "cell_type": "code",
   "execution_count": 35,
   "metadata": {},
   "outputs": [],
   "source": [
    "# Ignore deprecation warning \n",
    "import warnings\n",
    "warnings.filterwarnings(action=\"ignore\", message=\"^internal errors\")\n",
    "\n",
    "model = keras.models.Sequential([\n",
    "    keras.layers.Flatten(input_shape=[28, 28]),\n",
    "    keras.layers.Dense(300, activation=\"relu\", name='layer1'),\n",
    "    keras.layers.Dense(100, activation=\"relu\", name='layer2'),\n",
    "    keras.layers.Dense(10, activation=\"softmax\", name='output')\n",
    "])"
   ]
  },
  {
   "cell_type": "code",
   "execution_count": 16,
   "metadata": {},
   "outputs": [
    {
     "data": {
      "text/plain": [
       "[<tensorflow.python.keras.layers.core.Flatten at 0x7fdeb3b545c0>,\n",
       " <tensorflow.python.keras.layers.core.Dense at 0x7fdeb3b45fd0>,\n",
       " <tensorflow.python.keras.layers.core.Dense at 0x7fdeb3b34cf8>,\n",
       " <tensorflow.python.keras.layers.core.Dense at 0x7fdeb3b34550>]"
      ]
     },
     "execution_count": 16,
     "metadata": {},
     "output_type": "execute_result"
    }
   ],
   "source": [
    "model.layers"
   ]
  },
  {
   "cell_type": "markdown",
   "metadata": {},
   "source": [
    "- First hidden layer has 784 × 300 connection weights, plus 300 bias terms, which adds up to 235,500 parameters"
   ]
  },
  {
   "cell_type": "code",
   "execution_count": 17,
   "metadata": {},
   "outputs": [
    {
     "name": "stdout",
     "output_type": "stream",
     "text": [
      "Model: \"sequential\"\n",
      "_________________________________________________________________\n",
      "Layer (type)                 Output Shape              Param #   \n",
      "=================================================================\n",
      "flatten (Flatten)            (None, 784)               0         \n",
      "_________________________________________________________________\n",
      "layer1 (Dense)               (None, 300)               235500    \n",
      "_________________________________________________________________\n",
      "layer2 (Dense)               (None, 100)               30100     \n",
      "_________________________________________________________________\n",
      "output (Dense)               (None, 10)                1010      \n",
      "=================================================================\n",
      "Total params: 266,610\n",
      "Trainable params: 266,610\n",
      "Non-trainable params: 0\n",
      "_________________________________________________________________\n"
     ]
    }
   ],
   "source": [
    "model.summary()"
   ]
  },
  {
   "cell_type": "code",
   "execution_count": 18,
   "metadata": {},
   "outputs": [
    {
     "data": {
      "text/plain": [
       "'layer1'"
      ]
     },
     "execution_count": 18,
     "metadata": {},
     "output_type": "execute_result"
    }
   ],
   "source": [
    "# Fetch a layer by its index, or you can fetch it by name\n",
    "hidden_layer1 = model.layers[1]\n",
    "hidden_layer1.name"
   ]
  },
  {
   "cell_type": "code",
   "execution_count": 19,
   "metadata": {},
   "outputs": [
    {
     "data": {
      "text/plain": [
       "True"
      ]
     },
     "execution_count": 19,
     "metadata": {},
     "output_type": "execute_result"
    }
   ],
   "source": [
    "# Compared the layer to make sure it is the same address\n",
    "model.get_layer(hidden_layer1.name) is hidden_layer1"
   ]
  },
  {
   "cell_type": "code",
   "execution_count": 20,
   "metadata": {},
   "outputs": [],
   "source": [
    "weights, biases = hidden_layer1.get_weights()"
   ]
  },
  {
   "cell_type": "code",
   "execution_count": 21,
   "metadata": {},
   "outputs": [
    {
     "name": "stdout",
     "output_type": "stream",
     "text": [
      "Hidden Layer 1 weights : \n",
      " [[ 0.00812784  0.03243223  0.02310459 ... -0.0678731  -0.02900318\n",
      "  -0.04801646]\n",
      " [-0.02691221 -0.03603471 -0.02430029 ...  0.06412929  0.04019342\n",
      "   0.05680639]\n",
      " [ 0.07080635 -0.00244747  0.03834197 ...  0.03172342  0.03161769\n",
      "  -0.05697243]\n",
      " ...\n",
      " [ 0.06677046 -0.06319863 -0.01685699 ...  0.06915537  0.03605254\n",
      "  -0.06584169]\n",
      " [-0.06471159  0.00775002 -0.04009794 ... -0.06359514  0.05388083\n",
      "  -0.06636705]\n",
      " [ 0.05950283  0.06639765  0.05728103 ... -0.01542915 -0.03385126\n",
      "   0.04384641]]\n",
      "Hidden Layer 1 biases : \n",
      " [0. 0. 0. 0. 0. 0. 0. 0. 0. 0. 0. 0. 0. 0. 0. 0. 0. 0. 0. 0. 0. 0. 0. 0.\n",
      " 0. 0. 0. 0. 0. 0. 0. 0. 0. 0. 0. 0. 0. 0. 0. 0. 0. 0. 0. 0. 0. 0. 0. 0.\n",
      " 0. 0. 0. 0. 0. 0. 0. 0. 0. 0. 0. 0. 0. 0. 0. 0. 0. 0. 0. 0. 0. 0. 0. 0.\n",
      " 0. 0. 0. 0. 0. 0. 0. 0. 0. 0. 0. 0. 0. 0. 0. 0. 0. 0. 0. 0. 0. 0. 0. 0.\n",
      " 0. 0. 0. 0. 0. 0. 0. 0. 0. 0. 0. 0. 0. 0. 0. 0. 0. 0. 0. 0. 0. 0. 0. 0.\n",
      " 0. 0. 0. 0. 0. 0. 0. 0. 0. 0. 0. 0. 0. 0. 0. 0. 0. 0. 0. 0. 0. 0. 0. 0.\n",
      " 0. 0. 0. 0. 0. 0. 0. 0. 0. 0. 0. 0. 0. 0. 0. 0. 0. 0. 0. 0. 0. 0. 0. 0.\n",
      " 0. 0. 0. 0. 0. 0. 0. 0. 0. 0. 0. 0. 0. 0. 0. 0. 0. 0. 0. 0. 0. 0. 0. 0.\n",
      " 0. 0. 0. 0. 0. 0. 0. 0. 0. 0. 0. 0. 0. 0. 0. 0. 0. 0. 0. 0. 0. 0. 0. 0.\n",
      " 0. 0. 0. 0. 0. 0. 0. 0. 0. 0. 0. 0. 0. 0. 0. 0. 0. 0. 0. 0. 0. 0. 0. 0.\n",
      " 0. 0. 0. 0. 0. 0. 0. 0. 0. 0. 0. 0. 0. 0. 0. 0. 0. 0. 0. 0. 0. 0. 0. 0.\n",
      " 0. 0. 0. 0. 0. 0. 0. 0. 0. 0. 0. 0. 0. 0. 0. 0. 0. 0. 0. 0. 0. 0. 0. 0.\n",
      " 0. 0. 0. 0. 0. 0. 0. 0. 0. 0. 0. 0.]\n"
     ]
    }
   ],
   "source": [
    "print(\"Hidden Layer 1 weights : \\n\", weights)\n",
    "print(\"Hidden Layer 1 biases : \\n\", biases)"
   ]
  },
  {
   "cell_type": "code",
   "execution_count": 22,
   "metadata": {},
   "outputs": [
    {
     "name": "stdout",
     "output_type": "stream",
     "text": [
      "Weights shape : (784, 300)\n",
      "Biases shape : (300,)\n"
     ]
    }
   ],
   "source": [
    "print(\"Weights shape :\", weights.shape)\n",
    "print(\"Biases shape :\", biases.shape)"
   ]
  },
  {
   "cell_type": "markdown",
   "metadata": {},
   "source": [
    "- Compile the Neural Network model\n",
    "- The model has sparse labels (i.e., Each instance has only a target class index, from 0 to 9), and the classes are mututally exclusive."
   ]
  },
  {
   "cell_type": "code",
   "execution_count": 23,
   "metadata": {},
   "outputs": [],
   "source": [
    "model.compile(loss=\"sparse_categorical_crossentropy\",\n",
    "              optimizer=\"sgd\",\n",
    "              metrics=[\"accuracy\"])"
   ]
  },
  {
   "cell_type": "code",
   "execution_count": 24,
   "metadata": {},
   "outputs": [
    {
     "name": "stdout",
     "output_type": "stream",
     "text": [
      "Train on 55000 samples, validate on 5000 samples\n",
      "Epoch 1/30\n",
      "55000/55000 [==============================] - 4s 67us/sample - loss: 0.7172 - acc: 0.7646 - val_loss: 0.4999 - val_acc: 0.8336\n",
      "Epoch 2/30\n",
      "55000/55000 [==============================] - 4s 74us/sample - loss: 0.4861 - acc: 0.8290 - val_loss: 0.4538 - val_acc: 0.8456\n",
      "Epoch 3/30\n",
      "55000/55000 [==============================] - 4s 72us/sample - loss: 0.4423 - acc: 0.8449 - val_loss: 0.4096 - val_acc: 0.8586\n",
      "Epoch 4/30\n",
      "55000/55000 [==============================] - 3s 59us/sample - loss: 0.4158 - acc: 0.8523 - val_loss: 0.4032 - val_acc: 0.8630\n",
      "Epoch 5/30\n",
      "55000/55000 [==============================] - 3s 63us/sample - loss: 0.3961 - acc: 0.8603 - val_loss: 0.3793 - val_acc: 0.8694\n",
      "Epoch 6/30\n",
      "55000/55000 [==============================] - 4s 65us/sample - loss: 0.3807 - acc: 0.8653 - val_loss: 0.3778 - val_acc: 0.8684\n",
      "Epoch 7/30\n",
      "55000/55000 [==============================] - 4s 65us/sample - loss: 0.3666 - acc: 0.8694 - val_loss: 0.3749 - val_acc: 0.8696\n",
      "Epoch 8/30\n",
      "55000/55000 [==============================] - 4s 64us/sample - loss: 0.3562 - acc: 0.8740 - val_loss: 0.3747 - val_acc: 0.8706\n",
      "Epoch 9/30\n",
      "55000/55000 [==============================] - 3s 63us/sample - loss: 0.3455 - acc: 0.8772 - val_loss: 0.3428 - val_acc: 0.8814\n",
      "Epoch 10/30\n",
      "55000/55000 [==============================] - 4s 64us/sample - loss: 0.3369 - acc: 0.8796 - val_loss: 0.3753 - val_acc: 0.8716\n",
      "Epoch 11/30\n",
      "55000/55000 [==============================] - 3s 63us/sample - loss: 0.3286 - acc: 0.8821 - val_loss: 0.3404 - val_acc: 0.8824\n",
      "Epoch 12/30\n",
      "55000/55000 [==============================] - 4s 64us/sample - loss: 0.3207 - acc: 0.8845 - val_loss: 0.3447 - val_acc: 0.8752\n",
      "Epoch 13/30\n",
      "55000/55000 [==============================] - 3s 63us/sample - loss: 0.3124 - acc: 0.8893 - val_loss: 0.3527 - val_acc: 0.8756\n",
      "Epoch 14/30\n",
      "55000/55000 [==============================] - 4s 64us/sample - loss: 0.3070 - acc: 0.8893 - val_loss: 0.3216 - val_acc: 0.8860\n",
      "Epoch 15/30\n",
      "55000/55000 [==============================] - 4s 64us/sample - loss: 0.2996 - acc: 0.8921 - val_loss: 0.3222 - val_acc: 0.8844\n",
      "Epoch 16/30\n",
      "55000/55000 [==============================] - 3s 63us/sample - loss: 0.2935 - acc: 0.8932 - val_loss: 0.3488 - val_acc: 0.8746\n",
      "Epoch 17/30\n",
      "55000/55000 [==============================] - 3s 63us/sample - loss: 0.2878 - acc: 0.8959 - val_loss: 0.3178 - val_acc: 0.8876\n",
      "Epoch 18/30\n",
      "55000/55000 [==============================] - 3s 63us/sample - loss: 0.2831 - acc: 0.8966 - val_loss: 0.3286 - val_acc: 0.8816\n",
      "Epoch 19/30\n",
      "55000/55000 [==============================] - 3s 64us/sample - loss: 0.2772 - acc: 0.8992 - val_loss: 0.3078 - val_acc: 0.8868\n",
      "Epoch 20/30\n",
      "55000/55000 [==============================] - 3s 63us/sample - loss: 0.2717 - acc: 0.9025 - val_loss: 0.3123 - val_acc: 0.8878\n",
      "Epoch 21/30\n",
      "55000/55000 [==============================] - 3s 62us/sample - loss: 0.2676 - acc: 0.9042 - val_loss: 0.3179 - val_acc: 0.8880\n",
      "Epoch 22/30\n",
      "55000/55000 [==============================] - 3s 57us/sample - loss: 0.2615 - acc: 0.9062 - val_loss: 0.3194 - val_acc: 0.8834\n",
      "Epoch 23/30\n",
      "55000/55000 [==============================] - 3s 57us/sample - loss: 0.2585 - acc: 0.9060 - val_loss: 0.3142 - val_acc: 0.8864\n",
      "Epoch 24/30\n",
      "55000/55000 [==============================] - 3s 59us/sample - loss: 0.2532 - acc: 0.9078 - val_loss: 0.3041 - val_acc: 0.8912\n",
      "Epoch 25/30\n",
      "55000/55000 [==============================] - 4s 65us/sample - loss: 0.2490 - acc: 0.9104 - val_loss: 0.2981 - val_acc: 0.8902\n",
      "Epoch 26/30\n",
      "55000/55000 [==============================] - 4s 64us/sample - loss: 0.2450 - acc: 0.9114 - val_loss: 0.3239 - val_acc: 0.8838\n",
      "Epoch 27/30\n",
      "55000/55000 [==============================] - 4s 67us/sample - loss: 0.2419 - acc: 0.9133 - val_loss: 0.3019 - val_acc: 0.8892\n",
      "Epoch 28/30\n",
      "55000/55000 [==============================] - 4s 80us/sample - loss: 0.2371 - acc: 0.9154 - val_loss: 0.3013 - val_acc: 0.8910\n",
      "Epoch 29/30\n",
      "55000/55000 [==============================] - 4s 77us/sample - loss: 0.2332 - acc: 0.9159 - val_loss: 0.3005 - val_acc: 0.8918\n",
      "Epoch 30/30\n",
      "55000/55000 [==============================] - 4s 69us/sample - loss: 0.2294 - acc: 0.9176 - val_loss: 0.3040 - val_acc: 0.8948\n"
     ]
    }
   ],
   "source": [
    "NN_model = model.fit(X_train, y_train, epochs=30, validation_data=(X_val, y_val))"
   ]
  },
  {
   "cell_type": "code",
   "execution_count": 25,
   "metadata": {},
   "outputs": [
    {
     "data": {
      "text/plain": [
       "{'batch_size': 32,\n",
       " 'epochs': 30,\n",
       " 'steps': None,\n",
       " 'samples': 55000,\n",
       " 'verbose': 0,\n",
       " 'do_validation': True,\n",
       " 'metrics': ['loss', 'acc', 'val_loss', 'val_acc']}"
      ]
     },
     "execution_count": 25,
     "metadata": {},
     "output_type": "execute_result"
    }
   ],
   "source": [
    "NN_model.params"
   ]
  },
  {
   "cell_type": "code",
   "execution_count": 26,
   "metadata": {},
   "outputs": [
    {
     "data": {
      "text/plain": [
       "dict_keys(['loss', 'acc', 'val_loss', 'val_acc'])"
      ]
     },
     "execution_count": 26,
     "metadata": {},
     "output_type": "execute_result"
    }
   ],
   "source": [
    "# Getting the params and dictionary keys of the model\n",
    "# print(NN_model.epoch)\n",
    "NN_model.history.keys()"
   ]
  },
  {
   "cell_type": "code",
   "execution_count": 27,
   "metadata": {},
   "outputs": [
    {
     "name": "stdout",
     "output_type": "stream",
     "text": [
      "Saving file :  ./images/fashionClass/Keras_NNLearning_Curves_plot.png\n"
     ]
    },
    {
     "data": {
      "image/png": "[encoded data removed]",
      "text/plain": [
       "<Figure size 576x360 with 1 Axes>"
      ]
     },
     "metadata": {
      "needs_background": "light"
     },
     "output_type": "display_data"
    }
   ],
   "source": [
    "pd.DataFrame(NN_model.history).plot(figsize=(8, 5))\n",
    "plt.grid(True)\n",
    "plt.gca().set_ylim(0, 1)\n",
    "\n",
    "save_image(\"Keras_NNLearning_Curves_plot\")\n",
    "plt.show()"
   ]
  },
  {
   "cell_type": "markdown",
   "metadata": {},
   "source": [
    "- Evaluate the model"
   ]
  },
  {
   "cell_type": "code",
   "execution_count": 28,
   "metadata": {},
   "outputs": [
    {
     "name": "stdout",
     "output_type": "stream",
     "text": [
      "10000/10000 [==============================] - 0s 33us/sample - loss: 0.3385 - acc: 0.8810\n"
     ]
    },
    {
     "data": {
      "text/plain": [
       "[0.3385363259553909, 0.881]"
      ]
     },
     "execution_count": 28,
     "metadata": {},
     "output_type": "execute_result"
    }
   ],
   "source": [
    "model.evaluate(X_test, y_test)"
   ]
  },
  {
   "cell_type": "markdown",
   "metadata": {},
   "source": [
    "- Predict with the model"
   ]
  },
  {
   "cell_type": "code",
   "execution_count": 29,
   "metadata": {},
   "outputs": [
    {
     "data": {
      "text/plain": [
       "array([[0.  , 0.  , 0.  , 0.  , 0.  , 0.01, 0.  , 0.02, 0.  , 0.97],\n",
       "       [0.  , 0.  , 0.99, 0.  , 0.01, 0.  , 0.  , 0.  , 0.  , 0.  ],\n",
       "       [0.  , 1.  , 0.  , 0.  , 0.  , 0.  , 0.  , 0.  , 0.  , 0.  ],\n",
       "       [0.  , 1.  , 0.  , 0.  , 0.  , 0.  , 0.  , 0.  , 0.  , 0.  ],\n",
       "       [0.21, 0.  , 0.01, 0.  , 0.01, 0.  , 0.78, 0.  , 0.  , 0.  ],\n",
       "       [0.  , 1.  , 0.  , 0.  , 0.  , 0.  , 0.  , 0.  , 0.  , 0.  ],\n",
       "       [0.  , 0.  , 0.  , 0.  , 0.99, 0.  , 0.01, 0.  , 0.  , 0.  ]],\n",
       "      dtype=float32)"
      ]
     },
     "execution_count": 29,
     "metadata": {},
     "output_type": "execute_result"
    }
   ],
   "source": [
    "# Get 7 samples from X_test for predictions since we do not have new images\n",
    "X_samples = X_test[:7]\n",
    "y_probability = model.predict(X_samples)\n",
    "y_probability.round(2)"
   ]
  },
  {
   "cell_type": "code",
   "execution_count": 30,
   "metadata": {},
   "outputs": [
    {
     "data": {
      "text/plain": [
       "array([9, 2, 1, 1, 6, 1, 4])"
      ]
     },
     "execution_count": 30,
     "metadata": {},
     "output_type": "execute_result"
    }
   ],
   "source": [
    "y_predictions = model.predict_classes(X_samples)\n",
    "y_predictions"
   ]
  },
  {
   "cell_type": "code",
   "execution_count": 31,
   "metadata": {},
   "outputs": [
    {
     "data": {
      "text/plain": [
       "array(['Ankle boot', 'Pullover', 'Trouser', 'Trouser', 'Shirt', 'Trouser',\n",
       "       'Coat'], dtype='<U11')"
      ]
     },
     "execution_count": 31,
     "metadata": {},
     "output_type": "execute_result"
    }
   ],
   "source": [
    "# Get the equivalent class names\n",
    "np.array(class_names)[y_predictions]"
   ]
  },
  {
   "cell_type": "markdown",
   "metadata": {},
   "source": [
    "- The ground truth of the test sets"
   ]
  },
  {
   "cell_type": "code",
   "execution_count": 32,
   "metadata": {},
   "outputs": [
    {
     "data": {
      "text/plain": [
       "array([9, 2, 1, 1, 6, 1, 4], dtype=uint8)"
      ]
     },
     "execution_count": 32,
     "metadata": {},
     "output_type": "execute_result"
    }
   ],
   "source": [
    "y_samples = y_test[:7]\n",
    "y_samples"
   ]
  },
  {
   "cell_type": "code",
   "execution_count": 33,
   "metadata": {},
   "outputs": [
    {
     "data": {
      "text/plain": [
       "(7, 28, 28)"
      ]
     },
     "execution_count": 33,
     "metadata": {},
     "output_type": "execute_result"
    }
   ],
   "source": [
    "X_samples.shape"
   ]
  },
  {
   "cell_type": "code",
   "execution_count": 34,
   "metadata": {},
   "outputs": [
    {
     "name": "stdout",
     "output_type": "stream",
     "text": [
      "Saving file :  ./images/fashionClass/fashion_mnist_images_plot.png\n"
     ]
    },
    {
     "data": {
      "image/png": "[encoded data removed]",
      "text/plain": [
       "<Figure size 518.4x172.8 with 7 Axes>"
      ]
     },
     "metadata": {
      "needs_background": "light"
     },
     "output_type": "display_data"
    }
   ],
   "source": [
    "plt.figure(figsize=(7.2, 2.4))\n",
    "for index, image in enumerate(X_samples):\n",
    "    plt.subplot(1, X_samples.shape[0], index + 1)\n",
    "    plt.imshow(image, cmap=\"binary\", interpolation=\"nearest\")\n",
    "    plt.axis('off')\n",
    "    plt.title(class_names[y_test[index]], fontsize=12)\n",
    "plt.subplots_adjust(wspace=0.2, hspace=0.5)\n",
    "\n",
    "save_image('fashion_mnist_images_plot', tight_layout=False)\n",
    "plt.show()"
   ]
  },
  {
   "cell_type": "markdown",
   "metadata": {},
   "source": [
    "#End of Code"
   ]
  }
 ],
 "metadata": {
  "kernelspec": {
   "display_name": "Python 3",
   "language": "python",
   "name": "python3"
  },
  "language_info": {
   "codemirror_mode": {
    "name": "ipython",
    "version": 3
   },
   "file_extension": ".py",
   "mimetype": "text/x-python",
   "name": "python",
   "nbconvert_exporter": "python",
   "pygments_lexer": "ipython3",
   "version": "3.6.8"
  }
 },
 "nbformat": 4,
 "nbformat_minor": 2
}
